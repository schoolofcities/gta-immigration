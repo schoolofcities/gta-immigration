{
 "cells": [
  {
   "cell_type": "code",
   "execution_count": 1,
   "id": "44eff79c-2289-4cbf-bdb5-f78d85b0822e",
   "metadata": {},
   "outputs": [],
   "source": [
    "import numpy as np\n",
    "import pandas as pd\n",
    "import geopandas as gpd"
   ]
  },
  {
   "cell_type": "code",
   "execution_count": 2,
   "id": "e2ad027d-d44d-413b-b284-c78f6f02d3b5",
   "metadata": {},
   "outputs": [],
   "source": [
    "df_1951_cen = pd.read_csv(\"../data/census/1951_wide/census_wide_1951_ct.csv\", dtype={'geosid': str})\n",
    "df_1971_cen = pd.read_csv(\"../data/census/1971_wide/census_wide_1971_ct.csv\", dtype={'geosid': str})\n",
    "df_1991_cen = pd.read_csv(\"../data/census/1991_wide/census_wide_1991_ct.csv\", dtype={'geosid': str})\n",
    "df_2011_cen = pd.read_csv(\"../data/census/2011_wide/census_wide_2011_ct.csv\", dtype={'geosid': str})"
   ]
  },
  {
   "cell_type": "code",
   "execution_count": 3,
   "id": "a927606b-8e35-43dd-a150-c6ee7398ea42",
   "metadata": {},
   "outputs": [],
   "source": [
    "# We need to identify the stuff that's interesting to us and just select for that\n",
    "# Otherwise we get like 1000 columns -- too much for QGIS\n",
    "\n",
    "df_51_chin = df_1951_cen[['geosid', 'geopart', 'eth_asia_tot1951tt1']]\n",
    "df_71_chin = df_1971_cen[['geosid', 'geopart', 'eth_asiaeastchin1971tt1']]\n",
    "df_91_chin = df_1991_cen[['geosid', 'geopart', 'eth_asiaeastchin1991tt1']]\n",
    "df_11_chin = df_2011_cen[['geosid', 'geopart', 'ethmasiaeastchin2011tt3']]"
   ]
  },
  {
   "cell_type": "code",
   "execution_count": 4,
   "id": "447f02cb-e4d7-4937-929b-28909e05d59f",
   "metadata": {},
   "outputs": [],
   "source": [
    "df_51_chin.to_csv(\"../data/census/1951_wide/census_wide_1951_chin.csv\", index=False)\n",
    "df_71_chin.to_csv(\"../data/census/1971_wide/census_wide_1971_chin.csv\", index=False)\n",
    "df_91_chin.to_csv(\"../data/census/1991_wide/census_wide_1991_chin.csv\", index=False)\n",
    "df_11_chin.to_csv(\"../data/census/2011_wide/census_wide_2011_chin.csv\", index=False)"
   ]
  }
 ],
 "metadata": {
  "kernelspec": {
   "display_name": "Python 3 (ipykernel)",
   "language": "python",
   "name": "python3"
  },
  "language_info": {
   "codemirror_mode": {
    "name": "ipython",
    "version": 3
   },
   "file_extension": ".py",
   "mimetype": "text/x-python",
   "name": "python",
   "nbconvert_exporter": "python",
   "pygments_lexer": "ipython3",
   "version": "3.12.5"
  }
 },
 "nbformat": 4,
 "nbformat_minor": 5
}
