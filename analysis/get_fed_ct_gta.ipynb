{
 "cells": [
  {
   "cell_type": "code",
   "execution_count": 23,
   "id": "0d92cb8e-d764-4d6b-a4fd-1fa9c5edbc2d",
   "metadata": {},
   "outputs": [],
   "source": [
    "import os\n",
    "\n",
    "import numpy as np\n",
    "import pandas as pd\n",
    "import geopandas as gpd\n",
    "from tqdm import tqdm\n",
    "\n",
    "from shapely.geometry import MultiPolygon, Polygon\n",
    "from shapely.validation import make_valid"
   ]
  },
  {
   "cell_type": "markdown",
   "id": "c8b963cc-dbbd-48c6-92e8-62609cb0efdb",
   "metadata": {},
   "source": [
    "Identify FEDs and ONT-EDs from each redistricting period which are at least 50% within the GTA"
   ]
  },
  {
   "cell_type": "code",
   "execution_count": 4,
   "id": "e1051ac2-ae78-4ad6-af6a-81c486814243",
   "metadata": {},
   "outputs": [],
   "source": [
    "FED_YEARS = [1952, 1966, 1976, 1987, 1996, 1999, 2003, 2013]\n",
    "ONTED_YEARS = [1962, 1966, 1975, 1987, 1996, 2005, 2015]"
   ]
  },
  {
   "cell_type": "code",
   "execution_count": 5,
   "id": "c371e3e0-158a-4dcf-948a-262d2d7c492c",
   "metadata": {},
   "outputs": [],
   "source": [
    "mpoly_GTA = gpd.read_file('../data/geo/regions/GTA_2013_OrthoTile_Index/gta.gpkg').geometry.to_list()[0]"
   ]
  },
  {
   "cell_type": "code",
   "execution_count": 36,
   "id": "13cd01c2-7ea0-4ba5-baaf-b0187dc8950c",
   "metadata": {},
   "outputs": [
    {
     "name": "stderr",
     "output_type": "stream",
     "text": [
      "100%|█████████████████████████████████████████████| 8/8 [00:12<00:00,  1.54s/it]\n"
     ]
    }
   ],
   "source": [
    "for year in tqdm(FED_YEARS):\n",
    "    gdf_fed_all = gpd.read_file(f'../data/geo/{year}_fed/fed_{year}/fed_{year}.shp')\n",
    "    gdf_fed_all['gta_overlap'] = gdf_fed_all.apply(lambda row: row.geometry.intersection(mpoly_GTA).area / row.geometry.area, axis=1)\n",
    "    gdf_fed_gta = gdf_fed_all[gdf_fed_all.gta_overlap >= 0.5]\n",
    "    gdf_fed_gta.to_file(f'../data/geo/{year}_fed/fed_gta_{year}.gpkg', driver=\"GPKG\")"
   ]
  },
  {
   "cell_type": "code",
   "execution_count": 35,
   "id": "29a39bb6-c1f1-4402-b396-1cce589c065a",
   "metadata": {},
   "outputs": [],
   "source": [
    "def extract_valid_geometry(geom):\n",
    "    geom = make_valid(geom)  # Ensure it's valid\n",
    "    if geom.geom_type == \"GeometryCollection\":\n",
    "        # Extract the first Polygon or MultiPolygon found\n",
    "        polygons = [g for g in geom.geoms if isinstance(g, (Polygon, MultiPolygon))]\n",
    "        return MultiPolygon(polygons) if len(polygons) > 1 else polygons[0] if polygons else None\n",
    "    return geom  # If it's already a valid Polygon/MultiPolygon, return it as is"
   ]
  },
  {
   "cell_type": "code",
   "execution_count": 44,
   "id": "fc11406b-485b-416f-a1c3-49c13c6c6823",
   "metadata": {},
   "outputs": [
    {
     "name": "stderr",
     "output_type": "stream",
     "text": [
      "100%|█████████████████████████████████████████████| 7/7 [00:01<00:00,  5.53it/s]\n"
     ]
    }
   ],
   "source": [
    "for year in tqdm(ONTED_YEARS):\n",
    "    gdf_onted_all = gpd.read_file(f'../data/geo/{year}_ont-ed/ont-ed_{year}.geojson')\n",
    "    if year <= 1987:\n",
    "        gdf_onted_all = gdf_onted_all[['id', 'RIDINGNAME', 'geometry']].rename(\n",
    "            columns={'id': 'onted_id', 'RIDINGNAME': 'geoname'}\n",
    "        )\n",
    "    elif year == 1996:\n",
    "        gdf_onted_all = gdf_onted_all[['FED_NUM', 'FED_NAME', 'RIDINGNO', 'RIDINGNAME', 'geometry']].rename(\n",
    "            columns={'FED_NUM': 'fed_id', 'RIDINGNO': 'onted_id', 'RIDINGNAME': 'geoname'}\n",
    "        )\n",
    "    elif year == 2005:\n",
    "        gdf_onted_all = gdf_onted_all[['RIDINGNO', 'RIDINGNAME', 'geometry']].rename(\n",
    "            columns={'RIDINGNO': 'onted_id', 'RIDINGNAME': 'geoname'}\n",
    "        )\n",
    "    elif year == 2015:\n",
    "        gdf_onted_all = gdf_onted_all[['ED_ID', 'RIDINGNAME', 'geometry']].rename(\n",
    "            columns={'ED_ID': 'onted_id', 'RIDINGNAME': 'geoname'}\n",
    "        )\n",
    "    \n",
    "    gdf_onted_all['geometry'] = gdf_onted_all['geometry'].apply(make_valid)\n",
    "    gdf_onted_all[\"geometry\"] = gdf_onted_all[\"geometry\"].apply(extract_valid_geometry)\n",
    "    # gdf_onted_all['geometry'] = gdf_onted_all.make_valid() #[gdf_onted_all.geometry.is_valid]\n",
    "    \n",
    "    gdf_onted_all['gta_overlap'] = gdf_onted_all.apply(lambda row: row.geometry.intersection(mpoly_GTA).area / row.geometry.area, axis=1)\n",
    "    gdf_onted_gta = gdf_onted_all[gdf_onted_all.gta_overlap >= 0.5]\n",
    "    \n",
    "    gdf_onted_gta.to_file(f'../data/geo/{year}_ont-ed/ont-ed_gta_{year}.gpkg', driver='GPKG')"
   ]
  },
  {
   "cell_type": "markdown",
   "id": "f85b9e4f-49b4-4582-af94-f57c0f125b0b",
   "metadata": {},
   "source": []
  }
 ],
 "metadata": {
  "kernelspec": {
   "display_name": "Python 3 (ipykernel)",
   "language": "python",
   "name": "python3"
  },
  "language_info": {
   "codemirror_mode": {
    "name": "ipython",
    "version": 3
   },
   "file_extension": ".py",
   "mimetype": "text/x-python",
   "name": "python",
   "nbconvert_exporter": "python",
   "pygments_lexer": "ipython3",
   "version": "3.12.5"
  }
 },
 "nbformat": 4,
 "nbformat_minor": 5
}
