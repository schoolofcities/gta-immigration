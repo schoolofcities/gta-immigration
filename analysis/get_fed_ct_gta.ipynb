{
 "cells": [
  {
   "cell_type": "code",
   "execution_count": 33,
   "id": "0d92cb8e-d764-4d6b-a4fd-1fa9c5edbc2d",
   "metadata": {},
   "outputs": [],
   "source": [
    "import os\n",
    "\n",
    "import numpy as np\n",
    "import pandas as pd\n",
    "import geopandas as gpd\n",
    "from tqdm import tqdm\n",
    "\n",
    "from shapely import MultiPolygon, Polygon, Point"
   ]
  },
  {
   "cell_type": "code",
   "execution_count": 34,
   "id": "e1051ac2-ae78-4ad6-af6a-81c486814243",
   "metadata": {},
   "outputs": [],
   "source": [
    "FED_YEARS = [1952, 1966, 1976, 1987, 1996, 1999, 2003, 2013]"
   ]
  },
  {
   "cell_type": "markdown",
   "id": "c8b963cc-dbbd-48c6-92e8-62609cb0efdb",
   "metadata": {},
   "source": [
    "Identify FEDs from each redistricting period which are at least 50% within the GTA"
   ]
  },
  {
   "cell_type": "code",
   "execution_count": 35,
   "id": "c371e3e0-158a-4dcf-948a-262d2d7c492c",
   "metadata": {},
   "outputs": [],
   "source": [
    "mpoly_GTA = gpd.read_file('../data/geo/regions/GTA_2013_OrthoTile_Index/gta.gpkg').geometry.to_list()[0]"
   ]
  },
  {
   "cell_type": "code",
   "execution_count": 36,
   "id": "13cd01c2-7ea0-4ba5-baaf-b0187dc8950c",
   "metadata": {},
   "outputs": [
    {
     "name": "stderr",
     "output_type": "stream",
     "text": [
      "100%|█████████████████████████████████████████████| 8/8 [00:12<00:00,  1.54s/it]\n"
     ]
    }
   ],
   "source": [
    "for year in tqdm(FED_YEARS):\n",
    "    gdf_fed_all = gpd.read_file(f'../data/geo/{year}_fed_shp/fed_{year}/fed_{year}.shp')\n",
    "    gdf_fed_all['gta_overlap'] = gdf_fed_all.apply(lambda row: row.geometry.intersection(mpoly_GTA).area / row.geometry.area, axis=1)\n",
    "    gdf_fed_gta = gdf_fed_all[gdf_fed_all.gta_overlap >= 0.5]\n",
    "    gdf_fed_gta.to_file(f'../data/geo/{year}_fed_shp/fed_gta_{year}.gpkg', driver=\"GPKG\")"
   ]
  }
 ],
 "metadata": {
  "kernelspec": {
   "display_name": "Python 3 (ipykernel)",
   "language": "python",
   "name": "python3"
  },
  "language_info": {
   "codemirror_mode": {
    "name": "ipython",
    "version": 3
   },
   "file_extension": ".py",
   "mimetype": "text/x-python",
   "name": "python",
   "nbconvert_exporter": "python",
   "pygments_lexer": "ipython3",
   "version": "3.12.5"
  }
 },
 "nbformat": 4,
 "nbformat_minor": 5
}
