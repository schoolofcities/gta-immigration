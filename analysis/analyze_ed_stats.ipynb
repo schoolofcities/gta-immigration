{
 "cells": [
  {
   "cell_type": "code",
   "execution_count": 7,
   "id": "71ec684c-4f65-4da1-b0eb-3db9e0f6c6c6",
   "metadata": {},
   "outputs": [],
   "source": [
    "import os\n",
    "import re\n",
    "\n",
    "import numpy as np\n",
    "from scipy import stats\n",
    "import pandas as pd\n",
    "import geopandas as gpd\n",
    "from tqdm import tqdm\n",
    "tqdm.pandas()"
   ]
  },
  {
   "cell_type": "code",
   "execution_count": 2,
   "id": "76087f52",
   "metadata": {},
   "outputs": [],
   "source": [
    "FELXN_YEARS = [\n",
    "    1962, 1963, 1965, 1968, 1972, 1974, 1979, 1980, 1984, 1988, \n",
    "    1993, 1997, 2000, 2004, 2006, 2008, 2011, 2015, 2019, 2021\n",
    "]\n",
    "ONTELXN_YEARS = [\n",
    "    1963, 1967, 1971, 1975, 1977, 1981, 1985, 1987, 1990, 1995, \n",
    "    1999, 2003, 2007, 2011, 2014, 2018, 2022\n",
    "]"
   ]
  },
  {
   "cell_type": "markdown",
   "id": "0c6bc8c1",
   "metadata": {},
   "source": [
    "Compute the correlation between each of the party vote shares and census variables for every election"
   ]
  },
  {
   "cell_type": "code",
   "execution_count": 64,
   "id": "d66313ba",
   "metadata": {},
   "outputs": [],
   "source": [
    "def compute_corr(df, census_var, party_var):\n",
    "    if df[party_var].isnull().all() or df[census_var].isnull().all():\n",
    "        return np.nan\n",
    "    return np.round(stats.pearsonr(df[census_var], df[party_var]).statistic, 4)"
   ]
  },
  {
   "cell_type": "code",
   "execution_count": 68,
   "id": "8615c89c",
   "metadata": {},
   "outputs": [],
   "source": [
    "cols = [\n",
    "    'year', 'region',\n",
    "    'corr_pct_imm_cons1', 'corr_pct_imm_cons2', 'corr_pct_imm_lib', 'corr_pct_imm_ndp',\n",
    "    'corr_avg_hou_inc_cons1', 'corr_avg_hou_inc_cons2', 'corr_avg_hou_inc_lib', 'corr_avg_hou_inc_ndp',\n",
    "]\n",
    "rows = []\n",
    "\n",
    "# print('PROVINCIAL')\n",
    "for year in ONTELXN_YEARS:\n",
    "    df_onted_stats = pd.DataFrame(gpd.read_file(f'../data/elections/{year}_ont-elxn/ont-ed_stats_{year}.gpkg').drop(columns='geometry'))\n",
    "    corrs_row = [\n",
    "        year,\n",
    "        'ontario',\n",
    "        compute_corr(df_onted_stats, 'pct_imm', 'cons1_pct'),\n",
    "        compute_corr(df_onted_stats, 'pct_imm', 'cons2_pct'),\n",
    "        compute_corr(df_onted_stats, 'pct_imm', 'lib_pct'),\n",
    "        compute_corr(df_onted_stats, 'pct_imm', 'ndp_pct'),\n",
    "        compute_corr(df_onted_stats, 'avg_hou_inc', 'cons1_pct'),\n",
    "        compute_corr(df_onted_stats, 'avg_hou_inc', 'cons2_pct'),\n",
    "        compute_corr(df_onted_stats, 'avg_hou_inc', 'lib_pct'),\n",
    "        compute_corr(df_onted_stats, 'avg_hou_inc', 'ndp_pct'),\n",
    "    ]\n",
    "    rows.append(corrs_row)\n",
    "\n",
    "# print('FEDERAL')\n",
    "for year in FELXN_YEARS:\n",
    "    df_fed_stats = pd.DataFrame(gpd.read_file(f'../data/elections/{year}_felxn/fed_stats_{year}.gpkg').drop(columns='geometry'))\n",
    "    corrs_row = [\n",
    "        year,\n",
    "        'federal',\n",
    "        compute_corr(df_fed_stats, 'pct_imm', 'cons1_pct'),\n",
    "        compute_corr(df_fed_stats, 'pct_imm', 'cons2_pct'),\n",
    "        compute_corr(df_fed_stats, 'pct_imm', 'lib_pct'),\n",
    "        compute_corr(df_fed_stats, 'pct_imm', 'ndp_pct'),\n",
    "        compute_corr(df_fed_stats, 'avg_hou_inc', 'cons1_pct'),\n",
    "        compute_corr(df_fed_stats, 'avg_hou_inc', 'cons2_pct'),\n",
    "        compute_corr(df_fed_stats, 'avg_hou_inc', 'lib_pct'),\n",
    "        compute_corr(df_fed_stats, 'avg_hou_inc', 'ndp_pct'),\n",
    "    ]\n",
    "    rows.append(corrs_row)\n",
    "\n",
    "corrs = pd.DataFrame.from_records(data=rows, columns=cols)\n",
    "corrs.to_csv('../data/elections/stats/ed_corrs.csv', index=False)"
   ]
  },
  {
   "cell_type": "markdown",
   "id": "d34ceceb",
   "metadata": {},
   "source": [
    "Compute the trend line for the correlation between party vote shares and census variables over time"
   ]
  },
  {
   "cell_type": "code",
   "execution_count": null,
   "id": "5c645ea4",
   "metadata": {},
   "outputs": [],
   "source": []
  },
  {
   "cell_type": "markdown",
   "id": "181c8964",
   "metadata": {},
   "source": [
    "Compute the mean vote share for each party in the five most immigrant ridings for every election, and compute the trend line over time. Also whether the mean of the top 5 is significantly different from the mean of all ridings."
   ]
  },
  {
   "cell_type": "code",
   "execution_count": null,
   "id": "c612ae76",
   "metadata": {},
   "outputs": [
    {
     "name": "stdout",
     "output_type": "stream",
     "text": [
      "PROVINCIAL\n",
      "1963 Observed Mean Difference: 7.6250 P-value: 0.0514\n",
      "1967 Observed Mean Difference: 4.0569 P-value: 0.3262\n",
      "1971 Observed Mean Difference: 2.3465 P-value: 0.6563\n",
      "1975 Observed Mean Difference: -0.9808 P-value: 0.7623\n",
      "1977 Observed Mean Difference: -1.6831 P-value: 0.6887\n",
      "1981 Observed Mean Difference: 7.1868 P-value: 0.0772\n",
      "1985 Observed Mean Difference: 8.3299 P-value: 0.1136\n",
      "1987 Observed Mean Difference: 4.1662 P-value: 0.3092\n",
      "1990 Observed Mean Difference: 6.1203 P-value: 0.0826\n",
      "1995 Observed Mean Difference: 12.4192 P-value: 0.0068\n",
      "1999 Observed Mean Difference: 16.6116 P-value: 0.0018\n",
      "2003 Observed Mean Difference: 13.4524 P-value: 0.0014\n",
      "2007 Observed Mean Difference: 12.0792 P-value: 0.0028\n",
      "2011 Observed Mean Difference: 2.4634 P-value: 0.5129\n",
      "2014 Observed Mean Difference: 1.8083 P-value: 0.6465\n",
      "2018 Observed Mean Difference: 1.8613 P-value: 0.5473\n",
      "2022 Observed Mean Difference: 3.0197 P-value: 0.3664\n",
      "FEDERAL\n",
      "1962 Observed Mean Difference: 3.1978 P-value: 0.2692\n",
      "1963 Observed Mean Difference: 3.4496 P-value: 0.3546\n",
      "1965 Observed Mean Difference: 7.3508 P-value: 0.1194\n",
      "1968 Observed Mean Difference: 2.3077 P-value: 0.5653\n",
      "1972 Observed Mean Difference: 2.2100 P-value: 0.5849\n",
      "1974 Observed Mean Difference: 6.7857 P-value: 0.0554\n",
      "1979 Observed Mean Difference: 7.2999 P-value: 0.0562\n",
      "1980 Observed Mean Difference: 8.4005 P-value: 0.0592\n",
      "1984 Observed Mean Difference: 10.8257 P-value: 0.0242\n",
      "1988 Observed Mean Difference: 14.1572 P-value: 0.0054\n",
      "1993 Observed Mean Difference: 14.8971 P-value: 0.0078\n",
      "1997 Observed Mean Difference: 16.1683 P-value: 0.0004\n",
      "2000 Observed Mean Difference: 14.2458 P-value: 0.0014\n",
      "2004 Observed Mean Difference: 8.2992 P-value: 0.0108\n",
      "2006 Observed Mean Difference: 11.9414 P-value: 0.0008\n",
      "2008 Observed Mean Difference: 11.4489 P-value: 0.0016\n",
      "2011 Observed Mean Difference: 5.4555 P-value: 0.1386\n",
      "2015 Observed Mean Difference: 2.4084 P-value: 0.4264\n",
      "2019 Observed Mean Difference: 2.5210 P-value: 0.5017\n",
      "2021 Observed Mean Difference: 8.1754 P-value: 0.0354\n"
     ]
    }
   ],
   "source": []
  }
 ],
 "metadata": {
  "kernelspec": {
   "display_name": "py312",
   "language": "python",
   "name": "python3"
  },
  "language_info": {
   "codemirror_mode": {
    "name": "ipython",
    "version": 3
   },
   "file_extension": ".py",
   "mimetype": "text/x-python",
   "name": "python",
   "nbconvert_exporter": "python",
   "pygments_lexer": "ipython3",
   "version": "3.12.5"
  }
 },
 "nbformat": 4,
 "nbformat_minor": 5
}
