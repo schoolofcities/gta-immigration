{
 "cells": [
  {
   "cell_type": "code",
   "execution_count": 3,
   "id": "71ec684c-4f65-4da1-b0eb-3db9e0f6c6c6",
   "metadata": {},
   "outputs": [],
   "source": [
    "import os\n",
    "import re\n",
    "\n",
    "import numpy as np\n",
    "from scipy import stats\n",
    "import pandas as pd\n",
    "import geopandas as gpd\n",
    "from tqdm import tqdm\n",
    "tqdm.pandas()"
   ]
  },
  {
   "cell_type": "code",
   "execution_count": 4,
   "id": "76087f52",
   "metadata": {},
   "outputs": [],
   "source": [
    "from constants import FELXN_YEARS, ONTELXN_YEARS"
   ]
  },
  {
   "cell_type": "code",
   "execution_count": 11,
   "id": "27a72bb1",
   "metadata": {},
   "outputs": [],
   "source": [
    "FELXN_RESULTS = {\n",
    "    1962: {'cons1': 37.2, 'cons2': 0.0, 'lib': 37.0, 'ndp': 13.6},\n",
    "    1963: {'cons1': 32.8, 'cons2': 0.0, 'lib': 41.5, 'ndp': 13.2},\n",
    "    1965: {'cons1': 32.4, 'cons2': 0.0, 'lib': 40.2, 'ndp': 17.9},\n",
    "    1968: {'cons1': 31.4, 'cons2': 0.0, 'lib': 45.4, 'ndp': 17.0},\n",
    "    1972: {'cons1': 35.0, 'cons2': 0.0, 'lib': 38.4, 'ndp': 17.8},\n",
    "    1974: {'cons1': 35.5, 'cons2': 0.0, 'lib': 43.2, 'ndp': 15.4},\n",
    "    1979: {'cons1': 35.9, 'cons2': 0.0, 'lib': 40.1, 'ndp': 17.9},\n",
    "    1980: {'cons1': 32.5, 'cons2': 0.0, 'lib': 44.3, 'ndp': 19.8},\n",
    "    1984: {'cons1': 50.0, 'cons2': 0.0, 'lib': 28.0, 'ndp': 18.8},\n",
    "    1988: {'cons1': 43.0, 'cons2': 0.0, 'lib': 32.0, 'ndp': 20.4},\n",
    "    1993: {'cons1': 16.0, 'cons2': 18.7, 'lib': 41.3, 'ndp': 6.9},\n",
    "    1997: {'cons1': 18.8, 'cons2': 19.4, 'lib': 38.5, 'ndp': 11.0},\n",
    "    2000: {'cons1': 12.2, 'cons2': 25.5, 'lib': 40.8, 'ndp': 8.5},\n",
    "    2004: {'cons1': 29.6, 'cons2': 0.0, 'lib': 36.7, 'ndp': 15.7},\n",
    "    2006: {'cons1': 36.3, 'cons2': 0.0, 'lib': 30.2, 'ndp': 17.5},\n",
    "    2008: {'cons1': 37.7, 'cons2': 0.0, 'lib': 26.3, 'ndp': 18.2},\n",
    "    2011: {'cons1': 39.6, 'cons2': 0.0, 'lib': 18.9, 'ndp': 30.6},\n",
    "    2015: {'cons1': 31.9, 'cons2': 0.0, 'lib': 39.5, 'ndp': 19.7},\n",
    "    2019: {'cons1': 34.4, 'cons2': 0.0, 'lib': 33.1, 'ndp': 15.9},\n",
    "    2021: {'cons1': 33.7, 'cons2': 0.0, 'lib': 32.6, 'ndp': 17.8},\n",
    "    2025: {'cons1': 41.3, 'cons2': 0.0, 'lib': 43.7, 'ndp': 6.3},\n",
    "}\n",
    "\n",
    "ONTELXN_RESULTS = {\n",
    "    1963: {'cons1': 48.9, 'cons2': 0.0, 'lib': 35.1, 'ndp': 15.5},\n",
    "    1967: {'cons1': 42.3, 'cons2': 0.0, 'lib': 31.7, 'ndp': 25.9},\n",
    "    1971: {'cons1': 44.5, 'cons2': 0.0, 'lib': 27.8, 'ndp': 27.1},\n",
    "    1975: {'cons1': 36.1, 'cons2': 0.0, 'lib': 34.3, 'ndp': 28.9},\n",
    "    1977: {'cons1': 39.7, 'cons2': 0.0, 'lib': 31.4, 'ndp': 28.0},\n",
    "    1981: {'cons1': 44.4, 'cons2': 0.0, 'lib': 33.7, 'ndp': 21.2},\n",
    "    1985: {'cons1': 37.0, 'cons2': 0.0, 'lib': 37.9, 'ndp': 23.8},  \n",
    "    1987: {'cons1': 24.7, 'cons2': 0.0, 'lib': 47.3, 'ndp': 25.7},\n",
    "    1990: {'cons1': 23.5, 'cons2': 0.0, 'lib': 32.4, 'ndp': 37.6},\n",
    "    1995: {'cons1': 44.8, 'cons2': 0.0, 'lib': 31.1, 'ndp': 20.6},\n",
    "    1999: {'cons1': 45.1, 'cons2': 0.0, 'lib': 39.9, 'ndp': 12.6},\n",
    "    2003: {'cons1': 34.7, 'cons2': 0.0, 'lib': 46.4, 'ndp': 14.7},\n",
    "    2007: {'cons1': 31.6, 'cons2': 0.0, 'lib': 42.3, 'ndp': 16.8},\n",
    "    2011: {'cons1': 35.4, 'cons2': 0.0, 'lib': 37.6, 'ndp': 22.6},\n",
    "    2014: {'cons1': 31.2, 'cons2': 0.0, 'lib': 38.7, 'ndp': 23.7},\n",
    "    2018: {'cons1': 40.5, 'cons2': 0.0, 'lib': 19.6, 'ndp': 33.6},\n",
    "    2022: {'cons1': 40.8, 'cons2': 0.0, 'lib': 23.9, 'ndp': 23.7},\n",
    "    2025: {'cons1': 43.0, 'cons2': 0.0, 'lib': 30.0, 'ndp': 18.6}\n",
    "}"
   ]
  },
  {
   "cell_type": "markdown",
   "id": "0c6bc8c1",
   "metadata": {},
   "source": [
    "Compute the correlation between each of the party vote shares and census variables for every election"
   ]
  },
  {
   "cell_type": "code",
   "execution_count": 6,
   "id": "d66313ba",
   "metadata": {},
   "outputs": [],
   "source": [
    "def compute_corr(df, census_var, party_var):\n",
    "    if df[party_var].isnull().all() or df[census_var].isnull().all():\n",
    "        return np.nan\n",
    "    return np.round(stats.pearsonr(df[census_var], df[party_var]).statistic, 4)"
   ]
  },
  {
   "cell_type": "code",
   "execution_count": 7,
   "id": "8615c89c",
   "metadata": {},
   "outputs": [],
   "source": [
    "cols = [\n",
    "    'year', 'region',\n",
    "    'corr_pct_imm_cons1', 'corr_pct_imm_cons2', 'corr_pct_imm_lib', 'corr_pct_imm_ndp',\n",
    "    # 'corr_avg_hou_inc_cons1', 'corr_avg_hou_inc_cons2', 'corr_avg_hou_inc_lib', 'corr_avg_hou_inc_ndp',\n",
    "]\n",
    "rows = []\n",
    "\n",
    "# print('PROVINCIAL')\n",
    "for year in ONTELXN_YEARS:\n",
    "    df_onted_stats = pd.DataFrame(gpd.read_file(f'../data/elections/{year}_ont-elxn/ont-ed_stats_{year}.gpkg').drop(columns='geometry'))\n",
    "    corrs_row = [\n",
    "        year,\n",
    "        'ontario',\n",
    "        compute_corr(df_onted_stats, 'pct_imm', 'cons1_pct'),\n",
    "        compute_corr(df_onted_stats, 'pct_imm', 'cons2_pct'),\n",
    "        compute_corr(df_onted_stats, 'pct_imm', 'lib_pct'),\n",
    "        compute_corr(df_onted_stats, 'pct_imm', 'ndp_pct'),\n",
    "        # compute_corr(df_onted_stats, 'avg_hou_inc', 'cons1_pct'),\n",
    "        # compute_corr(df_onted_stats, 'avg_hou_inc', 'cons2_pct'),\n",
    "        # compute_corr(df_onted_stats, 'avg_hou_inc', 'lib_pct'),\n",
    "        # compute_corr(df_onted_stats, 'avg_hou_inc', 'ndp_pct'),\n",
    "    ]\n",
    "    rows.append(corrs_row)\n",
    "\n",
    "# print('FEDERAL')\n",
    "for year in FELXN_YEARS:\n",
    "    df_fed_stats = pd.DataFrame(gpd.read_file(f'../data/elections/{year}_felxn/fed_stats_{year}.gpkg').drop(columns='geometry'))\n",
    "    corrs_row = [\n",
    "        year,\n",
    "        'federal',\n",
    "        compute_corr(df_fed_stats, 'pct_imm', 'cons1_pct'),\n",
    "        compute_corr(df_fed_stats, 'pct_imm', 'cons2_pct'),\n",
    "        compute_corr(df_fed_stats, 'pct_imm', 'lib_pct'),\n",
    "        compute_corr(df_fed_stats, 'pct_imm', 'ndp_pct'),\n",
    "        # compute_corr(df_fed_stats, 'avg_hou_inc', 'cons1_pct'),\n",
    "        # compute_corr(df_fed_stats, 'avg_hou_inc', 'cons2_pct'),\n",
    "        # compute_corr(df_fed_stats, 'avg_hou_inc', 'lib_pct'),\n",
    "        # compute_corr(df_fed_stats, 'avg_hou_inc', 'ndp_pct'),\n",
    "    ]\n",
    "    rows.append(corrs_row)\n",
    "\n",
    "corrs = pd.DataFrame.from_records(data=rows, columns=cols)\n",
    "corrs.to_csv('../data/elections/stats/ed_corrs.csv', index=False)"
   ]
  },
  {
   "cell_type": "markdown",
   "id": "5a73f9d2",
   "metadata": {},
   "source": [
    "Compute the mean vote share for the top 5 immigrant ridings every election, the vote share in the GTA, and the general election vote share, all per party"
   ]
  },
  {
   "cell_type": "code",
   "execution_count": 8,
   "id": "dc9428bf",
   "metadata": {},
   "outputs": [],
   "source": [
    "def get_top_5_imm_vote(df, party_pct_var):\n",
    "    top_5_mean = df.nlargest(5, 'pct_imm')[party_pct_var].mean()\n",
    "    return top_5_mean\n",
    "\n",
    "def get_gta_vote(df, party_votes_var, num_gta_votes):\n",
    "    return (df[party_votes_var].sum() / num_gta_votes) * 100"
   ]
  },
  {
   "cell_type": "code",
   "execution_count": 12,
   "id": "7a26a85b",
   "metadata": {},
   "outputs": [
    {
     "name": "stderr",
     "output_type": "stream",
     "text": [
      "100%|██████████| 18/18 [00:00<00:00, 56.31it/s]\n",
      "100%|██████████| 21/21 [00:00<00:00, 49.51it/s]\n"
     ]
    }
   ],
   "source": [
    "cols = [\n",
    "    'year', 'region', 'party',\n",
    "    'top_5_imm_pct', 'gta_pct', 'full_pct'\n",
    "]\n",
    "rows = []\n",
    "\n",
    "party_vars = [\n",
    "    ('cons1', 'cons1_pct', 'cons1_votes'),\n",
    "    ('cons2', 'cons2_pct', 'cons2_votes'),\n",
    "    ('lib', 'lib_pct', 'lib_votes'),\n",
    "    ('ndp', 'ndp_pct', 'ndp_votes'),\n",
    "    # ('oth', 'oth_pct', 'oth_votes'),\n",
    "]\n",
    "party_vote_cols = [item[2] for item in party_vars] + ['oth_votes']\n",
    "\n",
    "for year in tqdm(ONTELXN_YEARS):\n",
    "    df_onted_stats = pd.DataFrame(gpd.read_file(f'../data/elections/{year}_ont-elxn/ont-ed_stats_{year}.gpkg').drop(columns='geometry'))\n",
    "    num_gta_votes = df_onted_stats[party_vote_cols].to_numpy().sum()\n",
    "\n",
    "    for party_tag, party_pct_var, party_votes_var in party_vars:\n",
    "        row = [\n",
    "            year, \n",
    "            'ontario',\n",
    "            party_tag,\n",
    "            get_top_5_imm_vote(df_onted_stats, party_pct_var),\n",
    "            get_gta_vote(df_onted_stats, party_votes_var, num_gta_votes),\n",
    "            ONTELXN_RESULTS[year][party_tag],\n",
    "        ]\n",
    "        rows.append(row)\n",
    "\n",
    "for year in tqdm(FELXN_YEARS):\n",
    "    df_fed_stats = pd.DataFrame(gpd.read_file(f'../data/elections/{year}_felxn/fed_stats_{year}.gpkg').drop(columns='geometry'))\n",
    "    num_gta_votes = df_fed_stats[party_vote_cols].to_numpy().sum()\n",
    "\n",
    "    for party_tag, party_pct_var, party_votes_var in party_vars:\n",
    "        row = [\n",
    "            year, \n",
    "            'federal',\n",
    "            party_tag,\n",
    "            get_top_5_imm_vote(df_fed_stats, party_pct_var),\n",
    "            get_gta_vote(df_fed_stats, party_votes_var, num_gta_votes),\n",
    "            FELXN_RESULTS[year][party_tag],\n",
    "        ]\n",
    "        rows.append(row)\n",
    "\n",
    "df_res = pd.DataFrame.from_records(data=rows, columns=cols)\n",
    "df_res.to_csv('../data/elections/stats/ed_top_5_imm_results.csv', index=False)"
   ]
  }
 ],
 "metadata": {
  "kernelspec": {
   "display_name": "py312",
   "language": "python",
   "name": "python3"
  },
  "language_info": {
   "codemirror_mode": {
    "name": "ipython",
    "version": 3
   },
   "file_extension": ".py",
   "mimetype": "text/x-python",
   "name": "python",
   "nbconvert_exporter": "python",
   "pygments_lexer": "ipython3",
   "version": "3.12.5"
  }
 },
 "nbformat": 4,
 "nbformat_minor": 5
}
