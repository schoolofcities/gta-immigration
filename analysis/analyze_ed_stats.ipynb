{
 "cells": [
  {
   "cell_type": "code",
   "execution_count": 7,
   "id": "71ec684c-4f65-4da1-b0eb-3db9e0f6c6c6",
   "metadata": {},
   "outputs": [],
   "source": [
    "import os\n",
    "import re\n",
    "\n",
    "import numpy as np\n",
    "from scipy import stats\n",
    "import pandas as pd\n",
    "import geopandas as gpd\n",
    "from tqdm import tqdm\n",
    "tqdm.pandas()"
   ]
  },
  {
   "cell_type": "code",
   "execution_count": 2,
   "id": "76087f52",
   "metadata": {},
   "outputs": [],
   "source": [
    "FELXN_YEARS = [\n",
    "    1962, 1963, 1965, 1968, 1972, 1974, 1979, 1980, 1984, 1988, \n",
    "    1993, 1997, 2000, 2004, 2006, 2008, 2011, 2015, 2019, 2021\n",
    "]\n",
    "ONTELXN_YEARS = [\n",
    "    1963, 1967, 1971, 1975, 1977, 1981, 1985, 1987, 1990, 1995, \n",
    "    1999, 2003, 2007, 2011, 2014, 2018, 2022\n",
    "]"
   ]
  },
  {
   "cell_type": "markdown",
   "id": "0c6bc8c1",
   "metadata": {},
   "source": [
    "Compute the correlation between each of the party vote shares and census variables for every election"
   ]
  },
  {
   "cell_type": "code",
   "execution_count": 64,
   "id": "d66313ba",
   "metadata": {},
   "outputs": [],
   "source": [
    "def compute_corr(df, census_var, party_var):\n",
    "    if df[party_var].isnull().all() or df[census_var].isnull().all():\n",
    "        return np.nan\n",
    "    return np.round(stats.pearsonr(df[census_var], df[party_var]).statistic, 4)"
   ]
  },
  {
   "cell_type": "code",
   "execution_count": 68,
   "id": "8615c89c",
   "metadata": {},
   "outputs": [],
   "source": [
    "cols = [\n",
    "    'year', 'region',\n",
    "    'corr_pct_imm_cons1', 'corr_pct_imm_cons2', 'corr_pct_imm_lib', 'corr_pct_imm_ndp',\n",
    "    'corr_avg_hou_inc_cons1', 'corr_avg_hou_inc_cons2', 'corr_avg_hou_inc_lib', 'corr_avg_hou_inc_ndp',\n",
    "]\n",
    "rows = []\n",
    "\n",
    "# print('PROVINCIAL')\n",
    "for year in ONTELXN_YEARS:\n",
    "    df_onted_stats = pd.DataFrame(gpd.read_file(f'../data/elections/{year}_ont-elxn/ont-ed_stats_{year}.gpkg').drop(columns='geometry'))\n",
    "    corrs_row = [\n",
    "        year,\n",
    "        'ontario',\n",
    "        compute_corr(df_onted_stats, 'pct_imm', 'cons1_pct'),\n",
    "        compute_corr(df_onted_stats, 'pct_imm', 'cons2_pct'),\n",
    "        compute_corr(df_onted_stats, 'pct_imm', 'lib_pct'),\n",
    "        compute_corr(df_onted_stats, 'pct_imm', 'ndp_pct'),\n",
    "        compute_corr(df_onted_stats, 'avg_hou_inc', 'cons1_pct'),\n",
    "        compute_corr(df_onted_stats, 'avg_hou_inc', 'cons2_pct'),\n",
    "        compute_corr(df_onted_stats, 'avg_hou_inc', 'lib_pct'),\n",
    "        compute_corr(df_onted_stats, 'avg_hou_inc', 'ndp_pct'),\n",
    "    ]\n",
    "    rows.append(corrs_row)\n",
    "\n",
    "# print('FEDERAL')\n",
    "for year in FELXN_YEARS:\n",
    "    df_fed_stats = pd.DataFrame(gpd.read_file(f'../data/elections/{year}_felxn/fed_stats_{year}.gpkg').drop(columns='geometry'))\n",
    "    corrs_row = [\n",
    "        year,\n",
    "        'federal',\n",
    "        compute_corr(df_fed_stats, 'pct_imm', 'cons1_pct'),\n",
    "        compute_corr(df_fed_stats, 'pct_imm', 'cons2_pct'),\n",
    "        compute_corr(df_fed_stats, 'pct_imm', 'lib_pct'),\n",
    "        compute_corr(df_fed_stats, 'pct_imm', 'ndp_pct'),\n",
    "        compute_corr(df_fed_stats, 'avg_hou_inc', 'cons1_pct'),\n",
    "        compute_corr(df_fed_stats, 'avg_hou_inc', 'cons2_pct'),\n",
    "        compute_corr(df_fed_stats, 'avg_hou_inc', 'lib_pct'),\n",
    "        compute_corr(df_fed_stats, 'avg_hou_inc', 'ndp_pct'),\n",
    "    ]\n",
    "    rows.append(corrs_row)\n",
    "\n",
    "corrs = pd.DataFrame.from_records(data=rows, columns=cols)\n",
    "corrs.to_csv('../data/elections/stats/ed_corrs.csv', index=False)"
   ]
  },
  {
   "cell_type": "markdown",
   "id": "d34ceceb",
   "metadata": {},
   "source": [
    "Compute the trend line for the correlation between party vote shares and census variables over time"
   ]
  },
  {
   "cell_type": "code",
   "execution_count": null,
   "id": "5c645ea4",
   "metadata": {},
   "outputs": [],
   "source": []
  },
  {
   "cell_type": "markdown",
   "id": "181c8964",
   "metadata": {},
   "source": [
    "Compute the mean vote share for each party in the five most immigrant ridings for every election, and compute the trend line over time. Also whether the mean of the top 5 is significantly different from the mean of all ridings."
   ]
  },
  {
   "cell_type": "code",
   "execution_count": 95,
   "id": "32647b08",
   "metadata": {},
   "outputs": [],
   "source": [
    "def compute_sig_diff_top_imm_ridings(df, party_var):\n",
    "    if party_var == 'cons2_pct': # BUG: df[party_var].isnull().all():\n",
    "        return np.nan, np.nan, np.nan\n",
    "\n",
    "    top_5_mean = df.nlargest(5, 'pct_imm')[party_var].mean()\n",
    "    top_5 = df.nlargest(5, 'pct_imm')[party_var]  # Top 5 ridings by immigrant %\n",
    "    full_data = df[party_var]  \n",
    "\n",
    "    # if party_var == 'cons2_pct':  # BUG: FIX\n",
    "    #     print(top_5)\n",
    "    #     print(full_data)\n",
    "\n",
    "    result = stats.permutation_test((top_5, full_data), statistic=lambda x, y: np.mean(x) - np.mean(y), permutation_type='independent', n_resamples=10000)\n",
    "\n",
    "    return np.round(top_5_mean, 4), np.round(result.statistic, 4), np.round(result.pvalue, 4)"
   ]
  },
  {
   "cell_type": "code",
   "execution_count": 96,
   "id": "c612ae76",
   "metadata": {},
   "outputs": [
    {
     "name": "stderr",
     "output_type": "stream",
     "text": [
      "100%|██████████| 17/17 [00:09<00:00,  1.80it/s]\n",
      "100%|██████████| 20/20 [00:10<00:00,  1.83it/s]\n"
     ]
    }
   ],
   "source": [
    "cols = [\n",
    "    'year', 'region',\n",
    "    'mean_top_vote_cons1', 'diff_vote_full_mean_cons1', 'p_val_cons1',\n",
    "    'mean_top_vote_cons2', 'diff_vote_full_mean_cons2', 'p_val_cons2',\n",
    "    'mean_top_vote_lib', 'diff_vote_full_mean_lib', 'p_val_lib',\n",
    "    'mean_top_vote_ndp', 'diff_vote_full_mean_ndp', 'p_val_ndp',\n",
    "]\n",
    "rows = []\n",
    "\n",
    "# print('PROVINCIAL')\n",
    "for year in tqdm(ONTELXN_YEARS):\n",
    "    df_onted_stats = pd.DataFrame(gpd.read_file(f'../data/elections/{year}_ont-elxn/ont-ed_stats_{year}.gpkg').drop(columns='geometry'))\n",
    "\n",
    "    sig_diff_row = [\n",
    "        year,\n",
    "        'ontario',\n",
    "        *compute_sig_diff_top_imm_ridings(df_onted_stats, 'cons1_pct'),\n",
    "        *compute_sig_diff_top_imm_ridings(df_onted_stats, 'cons2_pct'),\n",
    "        *compute_sig_diff_top_imm_ridings(df_onted_stats, 'lib_pct'),\n",
    "        *compute_sig_diff_top_imm_ridings(df_onted_stats, 'ndp_pct'),\n",
    "    ]\n",
    "    rows.append(sig_diff_row)\n",
    "\n",
    "# print('FEDERAL')\n",
    "for year in tqdm(FELXN_YEARS):\n",
    "    df_fed_stats = pd.DataFrame(gpd.read_file(f'../data/elections/{year}_felxn/fed_stats_{year}.gpkg').drop(columns='geometry'))\n",
    "    \n",
    "    sig_diff_row = [\n",
    "        year,\n",
    "        'federal',\n",
    "        *compute_sig_diff_top_imm_ridings(df_fed_stats, 'cons1_pct'),\n",
    "        *compute_sig_diff_top_imm_ridings(df_fed_stats, 'cons2_pct'),\n",
    "        *compute_sig_diff_top_imm_ridings(df_fed_stats, 'lib_pct'),\n",
    "        *compute_sig_diff_top_imm_ridings(df_fed_stats, 'ndp_pct'),\n",
    "    ]\n",
    "    rows.append(sig_diff_row)\n",
    "\n",
    "corrs = pd.DataFrame.from_records(data=rows, columns=cols)\n",
    "corrs.to_csv('../data/elections/stats/ed_sig_diff.csv', index=False)"
   ]
  }
 ],
 "metadata": {
  "kernelspec": {
   "display_name": "py312",
   "language": "python",
   "name": "python3"
  },
  "language_info": {
   "codemirror_mode": {
    "name": "ipython",
    "version": 3
   },
   "file_extension": ".py",
   "mimetype": "text/x-python",
   "name": "python",
   "nbconvert_exporter": "python",
   "pygments_lexer": "ipython3",
   "version": "3.12.5"
  }
 },
 "nbformat": 4,
 "nbformat_minor": 5
}
