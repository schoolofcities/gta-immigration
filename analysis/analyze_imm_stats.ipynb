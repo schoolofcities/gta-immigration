{
 "cells": [
  {
   "cell_type": "code",
   "execution_count": 2,
   "metadata": {},
   "outputs": [],
   "source": [
    "import os\n",
    "import re\n",
    "\n",
    "import numpy as np\n",
    "from scipy import stats\n",
    "import pandas as pd\n",
    "import geopandas as gpd\n",
    "from tqdm import tqdm\n",
    "tqdm.pandas()"
   ]
  },
  {
   "cell_type": "code",
   "execution_count": 3,
   "metadata": {},
   "outputs": [],
   "source": [
    "from constants import CEN_YEARS"
   ]
  },
  {
   "cell_type": "code",
   "execution_count": 13,
   "metadata": {},
   "outputs": [
    {
     "name": "stderr",
     "output_type": "stream",
     "text": [
      "100%|██████████| 15/15 [00:03<00:00,  4.29it/s]\n"
     ]
    }
   ],
   "source": [
    "import geopandas as gpd\n",
    "from tqdm import tqdm\n",
    "\n",
    "# Toronto city center coordinates (latitude, longitude)\n",
    "TORONTO_CENTER = (43.652, -79.383)\n",
    "\n",
    "# Assuming CEN_YEARS is defined somewhere\n",
    "# CEN_YEARS = [year1, year2, ...]\n",
    "\n",
    "dists = {\n",
    "    \"year\": [],  # not a distance, just for pandas\n",
    "    \"imm\": [],\n",
    "    \"not_imm\": [],\n",
    "    \"pop\": [],\n",
    "}\n",
    "\n",
    "for cen_year in tqdm(CEN_YEARS):\n",
    "    if (cen_year < 1961) or (cen_year == 1966) or (cen_year == 1976):\n",
    "        continue\n",
    "\n",
    "    # Remove this line if you want to process all years, not just 2021\n",
    "    # if cen_year != 2021:\n",
    "    #     continue\n",
    "\n",
    "    # Load the data\n",
    "    gdf_imm_stats = gpd.read_file(f\"../data/immigration/{cen_year}/imm_stats_{cen_year}.gpkg\")\n",
    "    \n",
    "    # Create non-immigrant count column\n",
    "    gdf_imm_stats['num_not_imm_tot'] = gdf_imm_stats['num_pop_tot'] - gdf_imm_stats['num_imm_tot']\n",
    "    \n",
    "    # Create normalized weights\n",
    "    gdf_imm_stats['pop_norm'] = gdf_imm_stats['num_pop_tot'] / gdf_imm_stats['num_pop_tot'].sum()\n",
    "    gdf_imm_stats['imm_norm'] = gdf_imm_stats['num_imm_tot'] / gdf_imm_stats['num_imm_tot'].sum()\n",
    "    gdf_imm_stats['not_imm_norm'] = gdf_imm_stats['num_not_imm_tot'] / gdf_imm_stats['num_not_imm_tot'].sum()\n",
    "    \n",
    "    # Create centroids - ensure CRS is appropriate for distance calculations\n",
    "    gdf_imm_stats = gdf_imm_stats.to_crs('EPSG:3857')  # Convert to projected CRS for accurate distance calculations\n",
    "    gdf_imm_stats['centroid'] = gdf_imm_stats.geometry.centroid\n",
    "    \n",
    "    # Create Point for Toronto center in the same CRS\n",
    "    toronto_center = gpd.points_from_xy([-79.383], [43.652], crs='EPSG:4326').to_crs('EPSG:3857')[0]\n",
    "    \n",
    "    # Calculate distances from each centroid to Toronto center (in meters)\n",
    "    gdf_imm_stats['distance'] = gdf_imm_stats['centroid'].distance(toronto_center)\n",
    "    \n",
    "    # Calculate weighted mean distances\n",
    "    weighted_imm_dist = (gdf_imm_stats['distance'] * gdf_imm_stats['imm_norm']).sum()\n",
    "    weighted_not_imm_dist = (gdf_imm_stats['distance'] * gdf_imm_stats['not_imm_norm']).sum()\n",
    "    weighted_pop_dist = (gdf_imm_stats['distance'] * gdf_imm_stats['pop_norm']).sum()\n",
    "    \n",
    "    # Convert distances to kilometers\n",
    "    dists['year'].append(cen_year)\n",
    "    dists['imm'].append(weighted_imm_dist / 1000)\n",
    "    dists['not_imm'].append(weighted_not_imm_dist / 1000)\n",
    "    dists['pop'].append(weighted_pop_dist / 1000)\n",
    "\n",
    "# Convert to pandas DataFrame\n",
    "df_dists = pd.DataFrame.from_dict(dists)\n",
    "df_dists.to_csv('../data/immigration/stats/pop_dists.csv', index=False)\n",
    "df_dists.to_csv('../static/data/immigration_analysis/pop_dists.csv', index=False)"
   ]
  }
 ],
 "metadata": {
  "kernelspec": {
   "display_name": "py312",
   "language": "python",
   "name": "python3"
  },
  "language_info": {
   "codemirror_mode": {
    "name": "ipython",
    "version": 3
   },
   "file_extension": ".py",
   "mimetype": "text/x-python",
   "name": "python",
   "nbconvert_exporter": "python",
   "pygments_lexer": "ipython3",
   "version": "3.12.5"
  }
 },
 "nbformat": 4,
 "nbformat_minor": 2
}
