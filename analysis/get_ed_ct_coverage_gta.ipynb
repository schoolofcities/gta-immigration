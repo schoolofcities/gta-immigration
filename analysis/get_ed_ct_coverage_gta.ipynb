{
 "cells": [
  {
   "cell_type": "code",
   "execution_count": 10,
   "id": "0d92cb8e-d764-4d6b-a4fd-1fa9c5edbc2d",
   "metadata": {},
   "outputs": [],
   "source": [
    "import os\n",
    "\n",
    "import numpy as np\n",
    "import pandas as pd\n",
    "import geopandas as gpd\n",
    "from tqdm import tqdm\n",
    "tqdm.pandas()\n",
    "\n",
    "from shapely.geometry import MultiPolygon, Polygon\n",
    "from shapely.validation import make_valid"
   ]
  },
  {
   "cell_type": "code",
   "execution_count": 2,
   "id": "e722d303-3e0e-4cde-a639-bbfbd1465835",
   "metadata": {},
   "outputs": [],
   "source": [
    "CEN_YEARS = [1951, 1956, 1961, 1966, 1971, 1976, 1981, 1986, 1991, 1996, 2001, 2006, 2011, 2016, 2021]\n",
    "\n",
    "FED_YEARS = [1952, 1966, 1976, 1987, 1996, 1999, 2003, 2013]\n",
    "ONTED_YEARS = [1962, 1966, 1975, 1987, 1996, 2005, 2015]"
   ]
  },
  {
   "cell_type": "code",
   "execution_count": 3,
   "id": "936b5b56-c271-4acc-b3df-6581e1577f39",
   "metadata": {},
   "outputs": [],
   "source": [
    "mpoly_GTA = gpd.read_file('../data/geo/regions/GTA_2013_OrthoTile_Index/gta.gpkg').geometry.to_list()[0]"
   ]
  },
  {
   "cell_type": "markdown",
   "id": "c8b963cc-dbbd-48c6-92e8-62609cb0efdb",
   "metadata": {},
   "source": [
    "Identify FEDs and ONT-EDs from each redistricting period which are at least 50% within the GTA"
   ]
  },
  {
   "cell_type": "code",
   "execution_count": 36,
   "id": "13cd01c2-7ea0-4ba5-baaf-b0187dc8950c",
   "metadata": {},
   "outputs": [
    {
     "name": "stderr",
     "output_type": "stream",
     "text": [
      "100%|█████████████████████████████████████████████| 8/8 [00:12<00:00,  1.54s/it]\n"
     ]
    }
   ],
   "source": [
    "for year in tqdm(FED_YEARS):\n",
    "    gdf_fed_all = gpd.read_file(f'../data/geo/{year}_fed/fed_{year}/fed_{year}.shp')\n",
    "    gdf_fed_all['gta_overlap'] = gdf_fed_all.apply(lambda row: row.geometry.intersection(mpoly_GTA).area / row.geometry.area, axis=1)\n",
    "    gdf_fed_gta = gdf_fed_all[gdf_fed_all.gta_overlap >= 0.5]\n",
    "    gdf_fed_gta.to_file(f'../data/geo/{year}_fed/fed_gta_{year}.gpkg', driver=\"GPKG\")"
   ]
  },
  {
   "cell_type": "code",
   "execution_count": 35,
   "id": "29a39bb6-c1f1-4402-b396-1cce589c065a",
   "metadata": {},
   "outputs": [],
   "source": [
    "def extract_valid_geometry(geom):\n",
    "    geom = make_valid(geom)  # Ensure it's valid\n",
    "    if geom.geom_type == \"GeometryCollection\":\n",
    "        # Extract the first Polygon or MultiPolygon found\n",
    "        polygons = [g for g in geom.geoms if isinstance(g, (Polygon, MultiPolygon))]\n",
    "        return MultiPolygon(polygons) if len(polygons) > 1 else polygons[0] if polygons else None\n",
    "    return geom  # If it's already a valid Polygon/MultiPolygon, return it as is"
   ]
  },
  {
   "cell_type": "code",
   "execution_count": 44,
   "id": "fc11406b-485b-416f-a1c3-49c13c6c6823",
   "metadata": {},
   "outputs": [
    {
     "name": "stderr",
     "output_type": "stream",
     "text": [
      "100%|█████████████████████████████████████████████| 7/7 [00:01<00:00,  5.53it/s]\n"
     ]
    }
   ],
   "source": [
    "for year in tqdm(ONTED_YEARS):\n",
    "    gdf_onted_all = gpd.read_file(f'../data/geo/{year}_ont-ed/ont-ed_{year}.geojson')\n",
    "    if year <= 1987:\n",
    "        gdf_onted_all = gdf_onted_all[['id', 'RIDINGNAME', 'geometry']].rename(\n",
    "            columns={'id': 'onted_id', 'RIDINGNAME': 'geoname'}\n",
    "        )\n",
    "    elif year == 1996:\n",
    "        gdf_onted_all = gdf_onted_all[['FED_NUM', 'FED_NAME', 'RIDINGNO', 'RIDINGNAME', 'geometry']].rename(\n",
    "            columns={'FED_NUM': 'fed_id', 'RIDINGNO': 'onted_id', 'RIDINGNAME': 'geoname'}\n",
    "        )\n",
    "    elif year == 2005:\n",
    "        gdf_onted_all = gdf_onted_all[['RIDINGNO', 'RIDINGNAME', 'geometry']].rename(\n",
    "            columns={'RIDINGNO': 'onted_id', 'RIDINGNAME': 'geoname'}\n",
    "        )\n",
    "    elif year == 2015:\n",
    "        gdf_onted_all = gdf_onted_all[['ED_ID', 'RIDINGNAME', 'geometry']].rename(\n",
    "            columns={'ED_ID': 'onted_id', 'RIDINGNAME': 'geoname'}\n",
    "        )\n",
    "    \n",
    "    gdf_onted_all['geometry'] = gdf_onted_all['geometry'].apply(make_valid)\n",
    "    gdf_onted_all[\"geometry\"] = gdf_onted_all[\"geometry\"].apply(extract_valid_geometry)\n",
    "    # gdf_onted_all['geometry'] = gdf_onted_all.make_valid() #[gdf_onted_all.geometry.is_valid]\n",
    "    \n",
    "    gdf_onted_all['gta_overlap'] = gdf_onted_all.apply(lambda row: row.geometry.intersection(mpoly_GTA).area / row.geometry.area, axis=1)\n",
    "    gdf_onted_gta = gdf_onted_all[gdf_onted_all.gta_overlap >= 0.5]\n",
    "    \n",
    "    gdf_onted_gta.to_file(f'../data/geo/{year}_ont-ed/ont-ed_gta_{year}.gpkg', driver='GPKG')"
   ]
  },
  {
   "cell_type": "markdown",
   "id": "78a0495d-1b46-4424-bec3-b36cf45348d9",
   "metadata": {},
   "source": [
    "Associate CT's to relevant FED/ONT-ED's, and save only relevant columns and CT's in the GTA. "
   ]
  },
  {
   "cell_type": "code",
   "execution_count": 8,
   "id": "f097ae3e-f3ea-4e74-bf67-6d6672a85881",
   "metadata": {},
   "outputs": [],
   "source": [
    "YEAR_CODES = {\n",
    "    1951: {\n",
    "        'num_pop_tot': ['pop__tot1951ttd'],\n",
    "        'num_imm_tot': [],\n",
    "        'num_imm_new': [],\n",
    "        'avg_hou_inc': [],\n",
    "        'num_not_vm_tot': [],\n",
    "        'num_enfr_home_tot': [],\n",
    "    }, \n",
    "    1956: {\n",
    "        'num_pop_tot': ['pop__tot1956ttd'],\n",
    "        'num_imm_tot': [],\n",
    "        'num_imm_new': [],\n",
    "        'avg_hou_inc': [],\n",
    "        'num_not_vm_tot': [],\n",
    "        'num_enfr_home_tot': [],\n",
    "    }, \n",
    "    1961: {\n",
    "        'num_pop_tot': ['pop__tot1961ttd'],\n",
    "        'num_imm_tot': ['imb__tot1961ttd'],\n",
    "        'num_imm_new': ['impi19611961tt1', 'impi19601961tt1', 'impi195819591961tt1', 'impi195619571961tt1', 'impi195119551961tt1'],\n",
    "        'avg_hou_inc': [],\n",
    "        'num_not_vm_tot': [],\n",
    "        'num_enfr_home_tot': [],\n",
    "    }, \n",
    "    1966: {\n",
    "        'num_pop_tot': ['pop__tot1966ttd'],\n",
    "        'num_imm_tot': [],\n",
    "        'num_imm_new': [],\n",
    "        'avg_hou_inc': [],\n",
    "        'num_not_vm_tot': [],\n",
    "        'num_enfr_home_tot': [],\n",
    "    }, \n",
    "    1971: {\n",
    "        'num_pop_tot': ['pop__tot1971ttd'],\n",
    "        'num_imm_tot': ['imb__tot1971ttd'],\n",
    "        'num_imm_new': [],\n",
    "        'avg_hou_inc': ['ihat_avg1971ttn'],\n",
    "        'num_not_vm_tot': [],\n",
    "        'num_enfr_home_tot': ['lnh_1resoffien__1971tt1', 'lnh_1resoffifr__1971tt1'],\n",
    "    }, \n",
    "    1976: {\n",
    "        'num_pop_tot': ['pop__tot1976ttd'],\n",
    "        'num_imm_tot': [],\n",
    "        'num_imm_new': [],\n",
    "        'avg_hou_inc': [],\n",
    "        'num_not_vm_tot': [],\n",
    "        'num_enfr_home_tot': [],\n",
    "    }, \n",
    "    1981: {\n",
    "        'num_pop_tot': ['pop__tot1981ttd'],\n",
    "        'num_imm_tot': ['imag_tot1981ttd'],\n",
    "        'num_imm_new': ['impi197819811981tt1', 'impi197019771981tt1'],\n",
    "        'avg_hou_inc': ['ihat_avg1981ttn'],\n",
    "        'num_not_vm_tot': [],\n",
    "        'num_enfr_home_tot': ['lnh_1resoffien__1981tt1', 'lnh_1resoffifr__1981tt1'],\n",
    "    }, \n",
    "    1986: {\n",
    "        'num_pop_tot': ['pop__tot1986ttd'],\n",
    "        'num_imm_tot': ['imb__tot1986ttd'],\n",
    "        'num_imm_new': ['impi198319861986tt1', 'impi197819821986tt1'],\n",
    "        'avg_hou_inc': ['ihat_avg1986ttn'],\n",
    "        'num_not_vm_tot': [],\n",
    "        'num_enfr_home_tot': ['lnh_1resoffien__1986tt1', 'lnh_1resoffifr__1986tt1'],\n",
    "    }, \n",
    "    1991: {\n",
    "        'num_pop_tot': ['pop__tot1991ttd'],\n",
    "        'num_imm_tot': ['imd__tot1991ttd'],\n",
    "        'num_imm_new': ['impi198819911991tt1', 'impi198119871991tt1'],\n",
    "        'avg_hou_inc': ['ihat_avg1991ttn'],\n",
    "        'num_not_vm_tot': [],\n",
    "        'num_enfr_home_tot': ['lnh_1resoffien__1991tt1', 'lnh_1resoffifr__1991tt1'],\n",
    "    }, \n",
    "    1996: {\n",
    "        'num_pop_tot': ['pop__tot1996ttd'],\n",
    "        'num_imm_tot': ['imb__tot1996ttd'],\n",
    "        'num_imm_new': ['impi199119961996tt1', 'impi198119901996tt1'],\n",
    "        'avg_hou_inc': ['ihat_avg1996ttn'],\n",
    "        'num_not_vm_tot': [],\n",
    "        'num_enfr_home_tot': ['lnh_1resoffien__1996tt1', 'lnh_1resoffifr__1996tt1', 'lnh_mresenfr1996tt1'],\n",
    "    }, \n",
    "    2001: {\n",
    "        'num_pop_tot': ['pop__tot2001ttd'],\n",
    "        'num_imm_tot': ['imb__tot2001ttd'],\n",
    "        'num_imm_new': ['impi199620012001tt1'],\n",
    "        'avg_hou_inc': ['ihat_avg2001ttn'],\n",
    "        'num_not_vm_tot': ['vminnvis2001tt1'],\n",
    "        'num_enfr_home_tot': ['lnh_1resoffien__2001tt1', 'lnh_1resoffifr__2001tt1', 'lnh_mresenfr2001tt1'],\n",
    "    }, \n",
    "    2006: {\n",
    "        'num_pop_tot': ['pop__tot2006ttd'],\n",
    "        'num_imm_tot': ['imb__tot2006ttd'],\n",
    "        'num_imm_new': ['impi200120062006tt1', 'impi199620002006tt1'],\n",
    "        'avg_hou_inc': ['ihat_avg2006ttn'],\n",
    "        'num_not_vm_tot': ['vminnvis2006tt1'],\n",
    "        'num_enfr_home_tot': ['lnh_1resoffien__2006tt1', 'lnh_1resoffifr__2006tt1', 'lnh_mresenfr2006tt1'],\n",
    "    }, \n",
    "    2011: {\n",
    "        'num_pop_tot': ['pop__tot2011ttd'],\n",
    "        'num_imm_tot': ['imb__tot2011ttd'],\n",
    "        'num_imm_new': ['impi200620112011tt1', 'impi200120052011tt1'],\n",
    "        'avg_hou_inc': ['ihat_avg2011ttn'],\n",
    "        'num_not_vm_tot': ['vminnvis2011tt1'],\n",
    "        'num_enfr_home_tot': ['lnh_1resoffien__2011tt1', 'lnh_1resoffifr__2011tt1', 'lnh_mresenfr2011tt1'],\n",
    "    }, \n",
    "    2016: {\n",
    "        'num_pop_tot': ['pop__tot2016ttd'],\n",
    "        'num_imm_tot': ['imb__tot2016ttd'],\n",
    "        'num_imm_new': ['impi201120162016tt1', 'impi200620102016tt1'],\n",
    "        'avg_hou_inc': ['ihat_avg2016ttn'],\n",
    "        'num_not_vm_tot': ['vminnvis2016tt1'],\n",
    "        'num_enfr_home_tot': ['lnh_1resoffien__2016tt1', 'lnh_1resoffifr__2016tt1', 'lnh_mresenfr2016tt1'],\n",
    "    }, \n",
    "    2021: {\n",
    "        'num_pop_tot': ['pop__tot2021ttd'],\n",
    "        'num_imm_tot': ['imb__tot2021ttd'],\n",
    "        'num_imm_new': ['impi201620212021tt1', 'impi201120152021tt1'],\n",
    "        'avg_hou_inc': ['ihat_avg2021ttn'],\n",
    "        'num_not_vm_tot': ['vminnvis2021tt1'],\n",
    "        'num_enfr_home_tot': ['lnh_1resoffien__2021tt1', 'lnh_1resoffifr__2021tt1', 'lnh_mresenfr2021tt1'],\n",
    "    },\n",
    "}"
   ]
  },
  {
   "cell_type": "code",
   "execution_count": 52,
   "id": "fe0a3822-ece0-4aa7-b2ca-4bce29f8f601",
   "metadata": {},
   "outputs": [
    {
     "name": "stderr",
     "output_type": "stream",
     "text": [
      "100%|███████████████████████████████████████████| 15/15 [00:11<00:00,  1.31it/s]\n"
     ]
    }
   ],
   "source": [
    "# For each year, save those CT's which are in the GTA\n",
    "for year in tqdm(CEN_YEARS):\n",
    "    gdf_geo_all = gpd.read_file(f\"../data/geo/{year}_ct/ct_{year}.zip\")\n",
    "    gdf_geo_all['gta_overlap'] = gdf_geo_all.apply(lambda row: row.geometry.intersection(mpoly_GTA).area / row.geometry.area, axis=1)\n",
    "    gdf_geo_gta = gdf_geo_all[gdf_geo_all.gta_overlap > 0]\n",
    "    gdf_geo_gta.to_file(f\"../data/geo/{year}_ct/ct_gta_{year}.gpkg\", driver='GPKG')"
   ]
  },
  {
   "cell_type": "code",
   "execution_count": 39,
   "id": "dc7ee4eb",
   "metadata": {},
   "outputs": [],
   "source": [
    "def get_census_year(year):\n",
    "    \"\"\"\n",
    "    Returns the appropriate census year based on different rules for different periods:\n",
    "    - Before 1961: return 1961\n",
    "    - 1961-1980: round down to decade + 1 (1961, 1971)\n",
    "    - After 1981: round down to nearest 5 + 1 (1981, 1986, 1991, etc.)\n",
    "    \n",
    "    Examples:\n",
    "    1955 -> 1961\n",
    "    1965 -> 1961\n",
    "    1975 -> 1971\n",
    "    1980 -> 1971\n",
    "    1987 -> 1986\n",
    "    2003 -> 2001\n",
    "    \"\"\"\n",
    "    if year < 1961:\n",
    "        return 1961\n",
    "    elif year <= 1980:\n",
    "        return year - ((year - 1961) % 10)\n",
    "    else:\n",
    "        return year - ((year - 1951) % 5)\n",
    "\n",
    "def compute_ct_overlap(gdf_ed_gta, gdf_ct_gta):\n",
    "    \"\"\"\n",
    "    Compute the proportion of each electoral district that is covered by census tracts,\n",
    "    excluding any overlap with Lake Ontario.\n",
    "    \n",
    "    Args:\n",
    "        gdf_ed_gta (GeoDataFrame): Electoral districts with 'geometry' column\n",
    "        gdf_ct_gta (GeoDataFrame): Census tracts with 'geometry' column\n",
    "    \n",
    "    Returns:\n",
    "        GeoDataFrame: Electoral districts with new 'ct_overlap' column showing proportion\n",
    "                     of land area (excluding water) covered by census tracts\n",
    "    \"\"\"\n",
    "    # Load Lake Ontario geometry\n",
    "    lake_gdf = gpd.read_file('../data/geo/regions/can_lake_ontario.gpkg')\n",
    "    \n",
    "    # Ensure same CRS\n",
    "    if lake_gdf.crs != gdf_ed_gta.crs:\n",
    "        lake_gdf = lake_gdf.to_crs(gdf_ed_gta.crs)\n",
    "    lake_ontario = lake_gdf.geometry.iloc[0]\n",
    "    \n",
    "    # Initialize ct_overlap column\n",
    "    gdf_ed_gta['ct_overlap'] = 0.0\n",
    "    \n",
    "    # Create land_geometry excluding lake\n",
    "    gdf_ed_gta['land_geometry'] = gdf_ed_gta['geometry'].apply(\n",
    "        lambda x: make_valid(x).difference(make_valid(lake_ontario)) \n",
    "        if make_valid(x).intersects(make_valid(lake_ontario)) else x\n",
    "    )\n",
    "    \n",
    "    # Find overlapping pairs efficiently\n",
    "    pairs = gpd.sjoin(gdf_ct_gta, gdf_ed_gta, how=\"inner\", predicate=\"intersects\")\n",
    "    \n",
    "    # Compute overlap proportions\n",
    "    for idx, ct_row in pairs.iterrows():\n",
    "        ct_geom = gdf_ct_gta.loc[idx, 'geometry']\n",
    "        ed_geom = gdf_ed_gta.loc[ct_row.index_right, 'land_geometry']\n",
    "        \n",
    "        intersection_prop = ct_geom.intersection(ed_geom).area / ed_geom.area\n",
    "        \n",
    "        if intersection_prop > 0:\n",
    "            gdf_ed_gta.loc[ct_row.index_right, 'ct_overlap'] += intersection_prop\n",
    "    \n",
    "    # Clean up\n",
    "    gdf_ed_gta['ct_overlap'] = gdf_ed_gta['ct_overlap'].clip(upper=1.0)\n",
    "    gdf_ed_gta = gdf_ed_gta.drop(columns=['land_geometry'])\n",
    "    \n",
    "    return gdf_ed_gta"
   ]
  },
  {
   "cell_type": "code",
   "execution_count": 40,
   "id": "0790252b",
   "metadata": {},
   "outputs": [
    {
     "name": "stderr",
     "output_type": "stream",
     "text": [
      "100%|██████████| 7/7 [00:04<00:00,  1.45it/s]\n",
      "100%|██████████| 8/8 [00:05<00:00,  1.36it/s]\n"
     ]
    }
   ],
   "source": [
    "for year in tqdm(ONTED_YEARS):\n",
    "    gdf_onted_gta = gpd.read_file(f'../data/geo/{year}_ont-ed/ont-ed_gta_{year}.gpkg')\n",
    "    cen_year = get_census_year(year)\n",
    "    gdf_ct_gta = gpd.read_file(f\"../data/geo/{cen_year}_ct/ct_gta_{cen_year}.gpkg\")\n",
    "\n",
    "    gdf_onted_gta = compute_ct_overlap(gdf_onted_gta, gdf_ct_gta)\n",
    "\n",
    "    gdf_onted_gta.to_file(f'../data/geo/{year}_ont-ed/ont-ed_gta_{year}_ct.gpkg')\n",
    "\n",
    "for year in tqdm(FED_YEARS):\n",
    "    gdf_fed_gta = gpd.read_file(f'../data/geo/{year}_fed/fed_gta_{year}.gpkg')\n",
    "    cen_year = get_census_year(year)\n",
    "    gdf_ct_gta = gpd.read_file(f\"../data/geo/{cen_year}_ct/ct_gta_{cen_year}.gpkg\")\n",
    "\n",
    "    gdf_fed_gta = compute_ct_overlap(gdf_fed_gta, gdf_ct_gta)\n",
    "\n",
    "    gdf_fed_gta.to_file(f'../data/geo/{year}_fed/fed_gta_{year}_ct.gpkg')"
   ]
  },
  {
   "cell_type": "code",
   "execution_count": null,
   "id": "c7a42358-8716-4917-835b-199d4dfb2648",
   "metadata": {},
   "outputs": [],
   "source": [
    "# For each year, for each riding (with >75% CT coverage), compute the CT overlap and proportionate stats for census values\n",
    "\n",
    "# Save the final values for each riding as a separate file"
   ]
  }
 ],
 "metadata": {
  "kernelspec": {
   "display_name": "py312",
   "language": "python",
   "name": "python3"
  },
  "language_info": {
   "codemirror_mode": {
    "name": "ipython",
    "version": 3
   },
   "file_extension": ".py",
   "mimetype": "text/x-python",
   "name": "python",
   "nbconvert_exporter": "python",
   "pygments_lexer": "ipython3",
   "version": "3.12.5"
  }
 },
 "nbformat": 4,
 "nbformat_minor": 5
}
