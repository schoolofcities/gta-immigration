{
 "cells": [
  {
   "cell_type": "code",
   "execution_count": 1,
   "id": "419db51c-6e0b-476a-bf1e-22c3bacbf719",
   "metadata": {},
   "outputs": [],
   "source": [
    "import os\n",
    "import re\n",
    "\n",
    "import numpy as np\n",
    "import pandas as pd\n",
    "import geopandas as gpd\n",
    "from tqdm import tqdm\n",
    "tqdm.pandas()\n",
    "\n",
    "from shapely.geometry import MultiPolygon, Polygon\n",
    "from shapely.validation import make_valid"
   ]
  },
  {
   "cell_type": "code",
   "execution_count": 2,
   "id": "e0e45663",
   "metadata": {},
   "outputs": [],
   "source": [
    "from constants import CEN_YEARS\n",
    "from constants import YEAR_CODES\n",
    "\n",
    "mpoly_GTA = gpd.read_file('../data/geo/regions/GTA.gpkg').geometry.to_list()[0]"
   ]
  },
  {
   "cell_type": "markdown",
   "id": "9b80f766",
   "metadata": {},
   "source": [
    "Prune geometries to select for the GTA-only versions"
   ]
  },
  {
   "cell_type": "code",
   "execution_count": 6,
   "metadata": {},
   "outputs": [
    {
     "name": "stderr",
     "output_type": "stream",
     "text": [
      "100%|██████████| 9/9 [02:19<00:00, 15.47s/it]\n"
     ]
    }
   ],
   "source": [
    "cen_years_81 = [y for y in CEN_YEARS if y >= 1981]\n",
    "\n",
    "for year in tqdm(cen_years_81):\n",
    "    gdf_csd_all = gpd.read_file(f'../data/geo/{year}_csd/csd_{year}.geojson')\n",
    "    gdf_csd_all['gta_overlap'] = gdf_csd_all.apply(lambda row: row.geometry.intersection(mpoly_GTA).area / row.geometry.area, axis=1)\n",
    "    gdf_csd_gta = gdf_csd_all[gdf_csd_all.gta_overlap >= 0.25]\n",
    "    gdf_csd_gta.to_file(f'../data/geo/{year}_csd/csd_gta_{year}.gpkg', driver=\"GPKG\")"
   ]
  },
  {
   "cell_type": "code",
   "execution_count": 10,
   "id": "22561de1",
   "metadata": {},
   "outputs": [
    {
     "name": "stderr",
     "output_type": "stream",
     "text": [
      "100%|██████████| 15/15 [00:42<00:00,  2.82s/it]\n"
     ]
    }
   ],
   "source": [
    "# For each year, save those CT's which are in the GTA\n",
    "for year in tqdm(CEN_YEARS):\n",
    "    gdf_ct_all = gpd.read_file(f\"../data/geo/{year}_ct/ct_{year}.zip\")\n",
    "    gdf_ct_all['gta_overlap'] = gdf_ct_all.apply(lambda row: row.geometry.intersection(mpoly_GTA).area / row.geometry.area, axis=1)\n",
    "    gdf_ct_gta = gdf_ct_all[gdf_ct_all.gta_overlap > 0.5]\n",
    "    gdf_ct_gta.to_file(f\"../data/geo/{year}_ct/ct_gta_{year}.gpkg\", driver='GPKG')"
   ]
  },
  {
   "cell_type": "markdown",
   "id": "f89f48d6",
   "metadata": {},
   "source": [
    "Join together CSD/CT boundaries and data, then create a joint geographical dataset which covers the full GTA by CSD's where CT's are missing weighted proportionately by how much they are included.\n",
    "\n",
    "In the case of years without CSD data (<1981), join the CSD geometry from 2021 with NaN values."
   ]
  },
  {
   "cell_type": "code",
   "execution_count": 20,
   "id": "f1797336",
   "metadata": {},
   "outputs": [],
   "source": [
    "def add_census_values_to_gdf(gdf_full, gdf_small, cen_year, cen_var):\n",
    "    cols = YEAR_CODES[cen_year][cen_var]\n",
    "\n",
    "    if len(cols) == 0:  \n",
    "        gdf_small[cen_var] = np.nan\n",
    "        if cen_var == 'num_not_vm_tot':\n",
    "            gdf_small.rename(columns={'num_not_vm_tot': 'num_vm_tot'}, inplace=True)\n",
    "    elif len(cols) > 1:  # New immigrants has multiple tags\n",
    "        gdf_small.loc[:, cen_var] = gdf_full.loc[:, cols].sum(axis=1)\n",
    "    elif cen_var == 'num_not_vm_tot':  # Need to compute total - NOT\n",
    "        pop_total = gdf_full[YEAR_CODES[cen_year]['num_pop_tot'][0]]\n",
    "        non_vm_total = gdf_full[cols[0]]  # Use [0] to get string from list\n",
    "        gdf_small['num_vm_tot'] = pop_total - non_vm_total\n",
    "    else:\n",
    "        gdf_small.loc[:, cen_var] = gdf_full.loc[:, cols]"
   ]
  },
  {
   "cell_type": "code",
   "execution_count": 21,
   "metadata": {},
   "outputs": [
    {
     "name": "stderr",
     "output_type": "stream",
     "text": [
      "100%|██████████| 15/15 [00:22<00:00,  1.53s/it]\n"
     ]
    }
   ],
   "source": [
    "for cen_year in tqdm(CEN_YEARS):\n",
    "    if cen_year < 1961:\n",
    "        continue\n",
    "    \n",
    "    if cen_year != 2021:\n",
    "        continue\n",
    "\n",
    "    # Load data\n",
    "    gdf_csd_gta = gpd.read_file(f\"../data/geo/{cen_year}_csd/csd_gta_{cen_year}.gpkg\")\n",
    "    gdf_ct_gta = gpd.read_file(f\"../data/geo/{cen_year}_ct/ct_gta_{cen_year}.gpkg\")\n",
    "\n",
    "    df_csd_cen = pd.read_csv(f\"../data/census/{cen_year}_csd_wide/census_wide_{cen_year}_csd.csv\")\n",
    "    df_ct_cen = pd.read_csv(f\"../data/census/{cen_year}_ct_wide/census_wide_{cen_year}_ct.csv\")\n",
    "\n",
    "    # Prepare for merging\n",
    "    gdf_csd_gta['geosid'] = gdf_csd_gta['geosid'].astype(str)\n",
    "    df_csd_cen['geosid'] = df_csd_cen['geosid'].astype(str)\n",
    "\n",
    "    gdf_ct_gta['geosid'] = gdf_ct_gta['geosid'].astype(str)\n",
    "    df_ct_cen['geosid'] = df_ct_cen['geosid'].astype(str)\n",
    "    df_ct_cen['geosid'] = df_ct_cen['geosid'].apply(lambda x: x[:-2] + '.00' if x.endswith('.0') else x)\n",
    "\n",
    "    # Merge geometry with census data\n",
    "    gdf_csd_full = pd.merge(\n",
    "        gdf_csd_gta,\n",
    "        df_csd_cen,\n",
    "        on='geosid',\n",
    "        how='left'\n",
    "    )\n",
    "\n",
    "    gdf_ct_full = pd.merge(\n",
    "        gdf_ct_gta,\n",
    "        df_ct_cen,\n",
    "        on='geosid',\n",
    "        how='left'\n",
    "    )\n",
    "\n",
    "    # Obtain desired census variables\n",
    "    gdf_csd_small = gdf_csd_full[['geosid', 'geometry']].copy()\n",
    "    gdf_ct_small = gdf_ct_full[['geosid', 'geometry']].copy()\n",
    "\n",
    "    add_census_values_to_gdf(gdf_csd_full, gdf_csd_small, cen_year, 'num_pop_tot')\n",
    "    add_census_values_to_gdf(gdf_csd_full, gdf_csd_small, cen_year, 'num_imm_tot')\n",
    "\n",
    "    add_census_values_to_gdf(gdf_ct_full, gdf_ct_small, cen_year, 'num_pop_tot')\n",
    "    add_census_values_to_gdf(gdf_ct_full, gdf_ct_small, cen_year, 'num_imm_tot')"
   ]
  }
 ],
 "metadata": {
  "kernelspec": {
   "display_name": "py312",
   "language": "python",
   "name": "python3"
  },
  "language_info": {
   "codemirror_mode": {
    "name": "ipython",
    "version": 3
   },
   "file_extension": ".py",
   "mimetype": "text/x-python",
   "name": "python",
   "nbconvert_exporter": "python",
   "pygments_lexer": "ipython3",
   "version": "3.12.5"
  }
 },
 "nbformat": 4,
 "nbformat_minor": 5
}
