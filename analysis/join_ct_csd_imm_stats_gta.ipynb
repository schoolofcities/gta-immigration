{
 "cells": [
  {
   "cell_type": "code",
   "execution_count": 4,
   "id": "419db51c-6e0b-476a-bf1e-22c3bacbf719",
   "metadata": {},
   "outputs": [],
   "source": [
    "import os\n",
    "import re\n",
    "\n",
    "import numpy as np\n",
    "import pandas as pd\n",
    "import geopandas as gpd\n",
    "from tqdm import tqdm\n",
    "tqdm.pandas()\n",
    "\n",
    "from shapely.geometry import MultiPolygon, Polygon\n",
    "from shapely.validation import make_valid"
   ]
  },
  {
   "cell_type": "code",
   "execution_count": 9,
   "id": "e0e45663",
   "metadata": {},
   "outputs": [],
   "source": [
    "from constants import CEN_YEARS\n",
    "from constants import YEAR_CODES\n",
    "\n",
    "mpoly_GTA = gpd.read_file('../data/geo/regions/GTA.gpkg').geometry.to_list()[0]"
   ]
  },
  {
   "cell_type": "markdown",
   "id": "9b80f766",
   "metadata": {},
   "source": [
    "Prune geometries to select for the GTA-only versions"
   ]
  },
  {
   "cell_type": "code",
   "execution_count": 6,
   "metadata": {},
   "outputs": [
    {
     "name": "stderr",
     "output_type": "stream",
     "text": [
      "100%|██████████| 9/9 [02:19<00:00, 15.47s/it]\n"
     ]
    }
   ],
   "source": [
    "cen_years_81 = [y for y in CEN_YEARS if y >= 1981]\n",
    "\n",
    "for year in tqdm(cen_years_81):\n",
    "    gdf_csd_all = gpd.read_file(f'../data/geo/{year}_csd/csd_{year}.geojson')\n",
    "    gdf_csd_all['gta_overlap'] = gdf_csd_all.apply(lambda row: row.geometry.intersection(mpoly_GTA).area / row.geometry.area, axis=1)\n",
    "    gdf_csd_gta = gdf_csd_all[gdf_csd_all.gta_overlap >= 0.25]\n",
    "    gdf_csd_gta.to_file(f'../data/geo/{year}_csd/csd_gta_{year}.gpkg', driver=\"GPKG\")"
   ]
  },
  {
   "cell_type": "code",
   "execution_count": 10,
   "id": "22561de1",
   "metadata": {},
   "outputs": [
    {
     "name": "stderr",
     "output_type": "stream",
     "text": [
      "100%|██████████| 15/15 [00:42<00:00,  2.82s/it]\n"
     ]
    }
   ],
   "source": [
    "# For each year, save those CT's which are in the GTA\n",
    "for year in tqdm(CEN_YEARS):\n",
    "    gdf_geo_all = gpd.read_file(f\"../data/geo/{year}_ct/ct_{year}.zip\")\n",
    "    gdf_geo_all['gta_overlap'] = gdf_geo_all.apply(lambda row: row.geometry.intersection(mpoly_GTA).area / row.geometry.area, axis=1)\n",
    "    gdf_geo_gta = gdf_geo_all[gdf_geo_all.gta_overlap > 0.5]\n",
    "    gdf_geo_gta.to_file(f\"../data/geo/{year}_ct/ct_gta_{year}.gpkg\", driver='GPKG')"
   ]
  },
  {
   "cell_type": "code",
   "execution_count": null,
   "id": "f54206e2",
   "metadata": {},
   "outputs": [],
   "source": []
  }
 ],
 "metadata": {
  "kernelspec": {
   "display_name": "py312",
   "language": "python",
   "name": "python3"
  },
  "language_info": {
   "codemirror_mode": {
    "name": "ipython",
    "version": 3
   },
   "file_extension": ".py",
   "mimetype": "text/x-python",
   "name": "python",
   "nbconvert_exporter": "python",
   "pygments_lexer": "ipython3",
   "version": "3.12.5"
  }
 },
 "nbformat": 4,
 "nbformat_minor": 5
}
